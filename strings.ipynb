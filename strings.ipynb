{
 "cells": [
  {
   "cell_type": "code",
   "execution_count": null,
   "metadata": {},
   "outputs": [],
   "source": [
    "\"\"\"\n",
    "3110. Score of a String\n",
    "Easy\n",
    "Acceptance Rate 92.3%\n",
    "\n",
    "https://leetcode.com/problems/score-of-a-string/description/?envType=problem-list-v2&envId=string\n",
    "\n",
    "Return a sum of absolute differences between ASCII values of adjacent characters\n",
    "\"\"\"\n",
    "class Solution:\n",
    "    def scoreOfString(self, s: str) -> int:\n",
    "        return sum(abs(ord(s[i]) - ord(s[i + 1])) for i in range(len(s) - 1))\n",
    "\n",
    "solution = Solution()    \n",
    "\n",
    "print(solution.scoreOfString('hello'))\n",
    "print(solution.scoreOfString('zaz'))"
   ]
  },
  {
   "cell_type": "code",
   "execution_count": null,
   "metadata": {},
   "outputs": [],
   "source": [
    "\"\"\"\n",
    "2011. Final Value of Variable After Performing Operations\n",
    "Easy\n",
    "Acceptance Rate 89.5%\n",
    "\n",
    "https://leetcode.com/problems/final-value-of-variable-after-performing-operations/description/?envType=problem-list-v2&envId=string\n",
    "\n",
    "Return a final value of X after performing all the operations. Initially, the value of X is 0. \n",
    "\"\"\"\n",
    "from typing import List\n",
    "\n",
    "class Solution:\n",
    "    def finalValueAfterOperations(self, operations: List[str]) -> int:\n",
    "        return sum(1 for o in operations if '+' in o) - sum(1 for o in operations if '-' in o)\n",
    "    \n",
    "solution = Solution()\n",
    "\n",
    "print(solution.finalValueAfterOperations(['--X','X++','X++']))\n",
    "print(solution.finalValueAfterOperations(['++X','++X','X++']))\n",
    "print(solution.finalValueAfterOperations(['X++','++X','--X','X--']))"
   ]
  },
  {
   "cell_type": "code",
   "execution_count": null,
   "metadata": {},
   "outputs": [],
   "source": [
    "\"\"\"\n",
    "1108. Defanging an IP Address\n",
    "Easy\n",
    "Acceptance Rate 89.5%\n",
    "\n",
    "https://leetcode.com/problems/defanging-an-ip-address/description/?envType=problem-list-v2&envId=string\n",
    "\n",
    "Return a defanged IP address replaces every period \".\" with \"[.]\"\n",
    "\"\"\"\n",
    "class Solution:\n",
    "    def defangIPaddr(self, address: str) -> str:\n",
    "        return address.replace('.', '[.]')\n",
    "    \n",
    "solution = Solution()\n",
    "\n",
    "print(solution.defangIPaddr('1.1.1.1'))\n",
    "print(solution.defangIPaddr('255.100.50.0'))"
   ]
  }
 ],
 "metadata": {
  "kernelspec": {
   "display_name": "venv",
   "language": "python",
   "name": "python3"
  },
  "language_info": {
   "codemirror_mode": {
    "name": "ipython",
    "version": 3
   },
   "file_extension": ".py",
   "mimetype": "text/x-python",
   "name": "python",
   "nbconvert_exporter": "python",
   "pygments_lexer": "ipython3",
   "version": "3.11.9"
  }
 },
 "nbformat": 4,
 "nbformat_minor": 2
}
