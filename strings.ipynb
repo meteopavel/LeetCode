{
 "cells": [
  {
   "cell_type": "code",
   "execution_count": 13,
   "metadata": {},
   "outputs": [
    {
     "name": "stdout",
     "output_type": "stream",
     "text": [
      "13\n",
      "50\n"
     ]
    }
   ],
   "source": [
    "\"\"\"\n",
    "1.\n",
    "3110. Score of a String\n",
    "Easy\n",
    "Acceptance Rate 92.3%\n",
    "\n",
    "https://leetcode.com/problems/score-of-a-string/description/?envType=problem-list-v2&envId=string\n",
    "\n",
    "Return a sum of absolute differences between ASCII values of adjacent characters\n",
    "\"\"\"\n",
    "class Solution:\n",
    "    def scoreOfString(self, s: str) -> int:\n",
    "        return sum(abs(ord(s[i]) - ord(s[i + 1])) for i in range(len(s) - 1))\n",
    "\n",
    "solution = Solution()    \n",
    "\n",
    "print(solution.scoreOfString('hello'))\n",
    "print(solution.scoreOfString('zaz'))"
   ]
  },
  {
   "cell_type": "code",
   "execution_count": 14,
   "metadata": {},
   "outputs": [
    {
     "name": "stdout",
     "output_type": "stream",
     "text": [
      "1\n",
      "3\n",
      "0\n"
     ]
    }
   ],
   "source": [
    "\"\"\"\n",
    "2.\n",
    "2011. Final Value of Variable After Performing Operations\n",
    "Easy\n",
    "Acceptance Rate 89.5%\n",
    "\n",
    "https://leetcode.com/problems/final-value-of-variable-after-performing-operations/description/?envType=problem-list-v2&envId=string\n",
    "\n",
    "Return a final value of X after performing all the operations. Initially, the value of X is 0. \n",
    "\"\"\"\n",
    "from typing import List\n",
    "\n",
    "class Solution:\n",
    "    def finalValueAfterOperations(self, operations: List[str]) -> int:\n",
    "        return sum(1 for o in operations if '+' in o) - sum(1 for o in operations if '-' in o)\n",
    "    \n",
    "solution = Solution()\n",
    "\n",
    "print(solution.finalValueAfterOperations(['--X','X++','X++']))\n",
    "print(solution.finalValueAfterOperations(['++X','++X','X++']))\n",
    "print(solution.finalValueAfterOperations(['X++','++X','--X','X--']))"
   ]
  },
  {
   "cell_type": "code",
   "execution_count": 15,
   "metadata": {},
   "outputs": [
    {
     "name": "stdout",
     "output_type": "stream",
     "text": [
      "1[.]1[.]1[.]1\n",
      "255[.]100[.]50[.]0\n"
     ]
    }
   ],
   "source": [
    "\"\"\"\n",
    "3.\n",
    "1108. Defanging an IP Address\n",
    "Easy\n",
    "Acceptance Rate 89.5%\n",
    "\n",
    "https://leetcode.com/problems/defanging-an-ip-address/description/?envType=problem-list-v2&envId=string\n",
    "\n",
    "Return a defanged IP address replaces every period \".\" with \"[.]\"\n",
    "\"\"\"\n",
    "class Solution:\n",
    "    def defangIPaddr(self, address: str) -> str:\n",
    "        return address.replace('.', '[.]')\n",
    "    \n",
    "solution = Solution()\n",
    "\n",
    "print(solution.defangIPaddr('1.1.1.1'))\n",
    "print(solution.defangIPaddr('255.100.50.0'))"
   ]
  },
  {
   "cell_type": "code",
   "execution_count": 16,
   "metadata": {},
   "outputs": [
    {
     "name": "stdout",
     "output_type": "stream",
     "text": [
      "3\n",
      "0\n"
     ]
    }
   ],
   "source": [
    "\"\"\"\n",
    "4.\n",
    "771. Jewels and Stones\n",
    "Easy\n",
    "Acceptance Rate 89.1%\n",
    "\n",
    "https://leetcode.com/problems/jewels-and-stones/description/?envType=problem-list-v2&envId=string\n",
    "\n",
    "Return how many of the stones you have are also jewels\n",
    "\"\"\"\n",
    "class Solution:\n",
    "    def numJewelsInStones(self, jewels: str, stones: str) -> int:\n",
    "        return sum(stone in jewels for stone in stones)\n",
    "    \n",
    "solution = Solution()\n",
    "\n",
    "print(solution.numJewelsInStones('aA', 'aAAbbbb'))\n",
    "print(solution.numJewelsInStones('z', 'ZZ'))"
   ]
  },
  {
   "cell_type": "code",
   "execution_count": 17,
   "metadata": {},
   "outputs": [
    {
     "name": "stdout",
     "output_type": "stream",
     "text": [
      "100000100000-10-11101\n",
      "11101101100-1-1\n"
     ]
    }
   ],
   "source": [
    "\"\"\"\n",
    "5.\n",
    "3280. Convert Date to Binary\n",
    "Easy\n",
    "Acceptance Rate 88.6%\n",
    "\n",
    "https://leetcode.com/problems/convert-date-to-binary/description/?envType=problem-list-v2&envId=string\n",
    "\n",
    "Return the binary representation of date\n",
    "\"\"\"\n",
    "class Solution:\n",
    "    def convertDateToBinary(self, date: str) -> str:\n",
    "        return '-'.join([bin(int(n))[2:] for n in date.split('-')])\n",
    "    \n",
    "solution = Solution()\n",
    "\n",
    "print(solution.convertDateToBinary('2080-02-29'))\n",
    "print(solution.convertDateToBinary('1900-01-01'))"
   ]
  },
  {
   "cell_type": "code",
   "execution_count": 18,
   "metadata": {},
   "outputs": [
    {
     "name": "stdout",
     "output_type": "stream",
     "text": [
      "[0, 1]\n",
      "[0, 2]\n",
      "[]\n"
     ]
    }
   ],
   "source": [
    "\"\"\"\n",
    "6.\n",
    "2942. Find Words Containing Character\n",
    "Easy\n",
    "Acceptance Rate 88.6%\n",
    "\n",
    "https://leetcode.com/problems/find-words-containing-character/description/?envType=problem-list-v2&envId=string\n",
    "\n",
    "Return an array of indices representing the words that contain the character x\n",
    "\"\"\"\n",
    "from typing import List\n",
    "\n",
    "class Solution:\n",
    "    def findWordsContaining(self, words: List[str], x: str) -> List[int]:\n",
    "        return [i for i in range(len(words)) if x in words[i]]\n",
    "\n",
    "solution = Solution()\n",
    "\n",
    "print(solution.findWordsContaining(['leet','code'], 'e'))\n",
    "print(solution.findWordsContaining(['abc','bcd','aaaa','cbc'], 'a'))\n",
    "print(solution.findWordsContaining(['abc','bcd','aaaa','cbc'], 'z'))"
   ]
  },
  {
   "cell_type": "code",
   "execution_count": 19,
   "metadata": {},
   "outputs": [
    {
     "name": "stdout",
     "output_type": "stream",
     "text": [
      "2\n",
      "7\n",
      "4\n"
     ]
    }
   ],
   "source": [
    "\"\"\"\n",
    "7.\n",
    "1684. Count the Number of Consistent Strings\n",
    "Easy\n",
    "Acceptance Rate 88.2%\n",
    "\n",
    "https://leetcode.com/problems/count-the-number-of-consistent-strings/description/?envType=problem-list-v2&envId=string\n",
    "\n",
    "Return the number of strings in the array words if all characters in the string\n",
    "appear in the string allowed\n",
    "\"\"\"\n",
    "from typing import List\n",
    "\n",
    "class Solution:\n",
    "    def countConsistentStrings(self, allowed: str, words: List[str]) -> int:\n",
    "        return sum(set(word).issubset(set(allowed)) for word in words)\n",
    "    \n",
    "solution = Solution()\n",
    "\n",
    "print(solution.countConsistentStrings('ab', ['ad','bd','aaab','baa','badab']))\n",
    "print(solution.countConsistentStrings('abc', ['a','b','c','ab','ac','bc','abc']))\n",
    "print(solution.countConsistentStrings('cad', ['cc','acd','b','ba','bac','bad','ac','d']))"
   ]
  },
  {
   "cell_type": "code",
   "execution_count": 20,
   "metadata": {},
   "outputs": [
    {
     "name": "stdout",
     "output_type": "stream",
     "text": [
      "2\n",
      "12\n"
     ]
    }
   ],
   "source": [
    "\"\"\"\n",
    "3146. Permutation Difference between Two Strings\n",
    "Easy\n",
    "Acceptance Rate 88.0%\n",
    "\n",
    "https://leetcode.com/problems/permutation-difference-between-two-strings/description/?envType=problem-list-v2&envId=string\n",
    "\n",
    "Return the absolute difference between the index of the occurrence of each character\n",
    "in s and the index of the occurrence of the same character in t\n",
    "\"\"\"\n",
    "class Solution:\n",
    "    def findPermutationDifference(self, s: str, t: str) -> int:\n",
    "        return sum(abs(s.find(c) - t.find(c)) for c in s)\n",
    "    \n",
    "solution = Solution()\n",
    "\n",
    "print(solution.findPermutationDifference('abc', 'bac'))\n",
    "print(solution.findPermutationDifference('abcde', 'edbac'))"
   ]
  }
 ],
 "metadata": {
  "kernelspec": {
   "display_name": "venv",
   "language": "python",
   "name": "python3"
  },
  "language_info": {
   "codemirror_mode": {
    "name": "ipython",
    "version": 3
   },
   "file_extension": ".py",
   "mimetype": "text/x-python",
   "name": "python",
   "nbconvert_exporter": "python",
   "pygments_lexer": "ipython3",
   "version": "3.11.9"
  }
 },
 "nbformat": 4,
 "nbformat_minor": 2
}
