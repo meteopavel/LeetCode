{
 "cells": [
  {
   "cell_type": "code",
   "execution_count": null,
   "metadata": {},
   "outputs": [
    {
     "name": "stdout",
     "output_type": "stream",
     "text": [
      "13\n",
      "50\n"
     ]
    }
   ],
   "source": [
    "\"\"\"\n",
    "3110. Score of a String\n",
    "Acceptance Rate 92.3%\n",
    "\n",
    "https://leetcode.com/problems/score-of-a-string/\n",
    "\n",
    "Return a sum of absolute differences between ASCII values of adjacent\n",
    "characters\n",
    "\"\"\"\n",
    "class Solution:\n",
    "    def scoreOfString(self, s: str) -> int:\n",
    "        return sum(abs(ord(s[i]) - ord(s[i + 1]))\n",
    "                   for i in range(len(s) - 1))\n",
    "\n",
    "solution = Solution()    \n",
    "\n",
    "print(solution.scoreOfString('hello'))\n",
    "print(solution.scoreOfString('zaz'))"
   ]
  },
  {
   "cell_type": "code",
   "execution_count": null,
   "metadata": {},
   "outputs": [
    {
     "name": "stdout",
     "output_type": "stream",
     "text": [
      "1\n",
      "3\n",
      "0\n"
     ]
    }
   ],
   "source": [
    "\"\"\"\n",
    "2011. Final Value of Variable After Performing Operations\n",
    "Acceptance Rate 89.5%\n",
    "\n",
    "https://leetcode.com/problems/final-value-of-variable-after-performing-operations/\n",
    "\n",
    "Return a final value of X after performing all the operations.\n",
    "Initially, the value of X is 0. \n",
    "\"\"\"\n",
    "from typing import List\n",
    "\n",
    "class Solution:\n",
    "    def finalValueAfterOperations(self, operations: List[str]) -> int:\n",
    "        return (sum(1 for o in operations if '+' in o)\n",
    "                - sum(1 for o in operations if '-' in o))\n",
    "    \n",
    "solution = Solution()\n",
    "\n",
    "print(solution.finalValueAfterOperations(['--X', 'X++', 'X++']))\n",
    "print(solution.finalValueAfterOperations(['++X', '++X', 'X++']))\n",
    "print(solution.finalValueAfterOperations(['X++', '++X', '--X', 'X--']))"
   ]
  },
  {
   "cell_type": "code",
   "execution_count": 3,
   "metadata": {},
   "outputs": [
    {
     "name": "stdout",
     "output_type": "stream",
     "text": [
      "1[.]1[.]1[.]1\n",
      "255[.]100[.]50[.]0\n"
     ]
    }
   ],
   "source": [
    "\"\"\"\n",
    "1108. Defanging an IP Address\n",
    "Acceptance Rate 89.5%\n",
    "\n",
    "https://leetcode.com/problems/defanging-an-ip-address/\n",
    "\n",
    "Return a defanged IP address replaces every period \".\" with \"[.]\"\n",
    "\"\"\"\n",
    "class Solution:\n",
    "    def defangIPaddr(self, address: str) -> str:\n",
    "        return address.replace('.', '[.]')\n",
    "    \n",
    "solution = Solution()\n",
    "\n",
    "print(solution.defangIPaddr('1.1.1.1'))\n",
    "print(solution.defangIPaddr('255.100.50.0'))"
   ]
  },
  {
   "cell_type": "code",
   "execution_count": 4,
   "metadata": {},
   "outputs": [
    {
     "name": "stdout",
     "output_type": "stream",
     "text": [
      "3\n",
      "0\n"
     ]
    }
   ],
   "source": [
    "\"\"\"\n",
    "771. Jewels and Stones\n",
    "Acceptance Rate 89.1%\n",
    "\n",
    "https://leetcode.com/problems/jewels-and-stones/\n",
    "\n",
    "Return how many of the stones you have are also jewels\n",
    "\"\"\"\n",
    "class Solution:\n",
    "    def numJewelsInStones(self, jewels: str, stones: str) -> int:\n",
    "        return sum(stone in jewels for stone in stones)\n",
    "    \n",
    "solution = Solution()\n",
    "\n",
    "print(solution.numJewelsInStones('aA', 'aAAbbbb'))\n",
    "print(solution.numJewelsInStones('z', 'ZZ'))"
   ]
  },
  {
   "cell_type": "code",
   "execution_count": 5,
   "metadata": {},
   "outputs": [
    {
     "name": "stdout",
     "output_type": "stream",
     "text": [
      "100000100000-10-11101\n",
      "11101101100-1-1\n"
     ]
    }
   ],
   "source": [
    "\"\"\"\n",
    "3280. Convert Date to Binary\n",
    "Acceptance Rate 88.6%\n",
    "\n",
    "https://leetcode.com/problems/convert-date-to-binary/\n",
    "\n",
    "Return the binary representation of date\n",
    "\"\"\"\n",
    "class Solution:\n",
    "    def convertDateToBinary(self, date: str) -> str:\n",
    "        return '-'.join([bin(int(n))[2:] for n in date.split('-')])\n",
    "    \n",
    "solution = Solution()\n",
    "\n",
    "print(solution.convertDateToBinary('2080-02-29'))\n",
    "print(solution.convertDateToBinary('1900-01-01'))"
   ]
  },
  {
   "cell_type": "code",
   "execution_count": 6,
   "metadata": {},
   "outputs": [
    {
     "name": "stdout",
     "output_type": "stream",
     "text": [
      "[0, 1]\n",
      "[0, 2]\n",
      "[]\n"
     ]
    }
   ],
   "source": [
    "\"\"\"\n",
    "2942. Find Words Containing Character\n",
    "Acceptance Rate 88.6%\n",
    "\n",
    "https://leetcode.com/problems/find-words-containing-character/\n",
    "\n",
    "Return an array of indices representing the words that contain the\n",
    "character x\n",
    "\"\"\"\n",
    "from typing import List\n",
    "\n",
    "class Solution:\n",
    "    def findWordsContaining(self, words: List[str], x: str) -> List[int]:\n",
    "        return [i for i in range(len(words)) if x in words[i]]\n",
    "\n",
    "solution = Solution()\n",
    "\n",
    "print(solution.findWordsContaining(['leet', 'code'], 'e'))\n",
    "print(solution.findWordsContaining(['abc', 'bcd', 'aaaa', 'cbc'], 'a'))\n",
    "print(solution.findWordsContaining(['abc', 'bcd', 'aaaa', 'cbc'], 'z'))"
   ]
  },
  {
   "cell_type": "code",
   "execution_count": null,
   "metadata": {},
   "outputs": [
    {
     "name": "stdout",
     "output_type": "stream",
     "text": [
      "2\n",
      "7\n",
      "4\n"
     ]
    }
   ],
   "source": [
    "\"\"\"\n",
    "1684. Count the Number of Consistent Strings\n",
    "Acceptance Rate 88.2%\n",
    "\n",
    "https://leetcode.com/problems/count-the-number-of-consistent-strings/\n",
    "\n",
    "Return the number of strings in the array words if all characters in\n",
    "the string appear in the string allowed\n",
    "\"\"\"\n",
    "from typing import List\n",
    "\n",
    "class Solution:\n",
    "    def countConsistentStrings(self, allowed: str,\n",
    "                               words: List[str]) -> int:\n",
    "        return sum(set(word).issubset(set(allowed)) for word in words)\n",
    "    \n",
    "solution = Solution()\n",
    "\n",
    "print(solution.countConsistentStrings('ab',\n",
    "                                      ['ad', 'bd', 'aaab',\n",
    "                                       'baa', 'badab']))\n",
    "print(solution.countConsistentStrings('abc',\n",
    "                                      ['a', 'b', 'c', 'ab',\n",
    "                                       'ac', 'bc', 'abc']))\n",
    "print(solution.countConsistentStrings('cad', \n",
    "                                      ['cc', 'acd', 'b', 'ba',\n",
    "                                       'bac', 'bad', 'ac', 'd']))"
   ]
  },
  {
   "cell_type": "code",
   "execution_count": 8,
   "metadata": {},
   "outputs": [
    {
     "name": "stdout",
     "output_type": "stream",
     "text": [
      "2\n",
      "12\n"
     ]
    }
   ],
   "source": [
    "\"\"\"\n",
    "3146. Permutation Difference between Two Strings\n",
    "Acceptance Rate 88.0%\n",
    "\n",
    "https://leetcode.com/problems/permutation-difference-between-two-strings/\n",
    "\n",
    "Return the absolute difference between the index of the occurrence of\n",
    "each character in s and the index of the occurrence of the same character\n",
    "in t\n",
    "\"\"\"\n",
    "class Solution:\n",
    "    def findPermutationDifference(self, s: str, t: str) -> int:\n",
    "        return sum(abs(s.find(c) - t.find(c)) for c in s)\n",
    "    \n",
    "solution = Solution()\n",
    "\n",
    "print(solution.findPermutationDifference('abc', 'bac'))\n",
    "print(solution.findPermutationDifference('abcde', 'edbac'))"
   ]
  },
  {
   "cell_type": "code",
   "execution_count": 9,
   "metadata": {},
   "outputs": [
    {
     "name": "stdout",
     "output_type": "stream",
     "text": [
      "Goal\n",
      "Gooooal\n",
      "alGalooG\n"
     ]
    }
   ],
   "source": [
    "\"\"\"\n",
    "1678. Goal Parser Interpretation\n",
    "Acceptance Rate 87.6%\n",
    "\n",
    "https://leetcode.com/problems/goal-parser-interpretation/\n",
    "\n",
    "Return the Goal Parser's interpretation of command\n",
    "\"\"\"\n",
    "class Solution:\n",
    "    def interpret(self, command: str) -> str:\n",
    "        special_letters_dict = {\n",
    "            '()': 'o',\n",
    "            '(al)': 'al',\n",
    "        }\n",
    "        for special_letter in special_letters_dict:\n",
    "            command = command.replace(\n",
    "                special_letter,\n",
    "                special_letters_dict[special_letter])\n",
    "        return command\n",
    "    \n",
    "solution = Solution()\n",
    "\n",
    "print(solution.interpret('G()(al)'))\n",
    "print(solution.interpret('G()()()()(al)'))\n",
    "print(solution.interpret('(al)G(al)()()G'))"
   ]
  },
  {
   "cell_type": "code",
   "execution_count": 10,
   "metadata": {},
   "outputs": [
    {
     "name": "stdout",
     "output_type": "stream",
     "text": [
      "6\n",
      "3\n"
     ]
    }
   ],
   "source": [
    "\"\"\"\n",
    "2114. Maximum Number of Words Found in Sentences\n",
    "Acceptance Rate 86.6%\n",
    "\n",
    "https://leetcode.com/problems/maximum-number-of-words-found-in-sentences/\n",
    "\n",
    "Return the maximum number of words that appear in a single sentence\n",
    "\"\"\"\n",
    "from typing import List\n",
    "\n",
    "class Solution:\n",
    "    def mostWordsFound(self, sentences: List[str]) -> int:\n",
    "        return max([len(sentence.split()) for sentence in sentences])\n",
    "     \n",
    "solution = Solution()\n",
    "\n",
    "print(solution.mostWordsFound(['alice and bob love leetcode',\n",
    "                               'i think so too',\n",
    "                               'this is great thanks very much']))\n",
    "print(solution.mostWordsFound(['please wait','continue to fight',\n",
    "                               'continue to win']))"
   ]
  },
  {
   "cell_type": "code",
   "execution_count": 11,
   "metadata": {},
   "outputs": [
    {
     "name": "stdout",
     "output_type": "stream",
     "text": [
      "4\n",
      "2\n",
      "1\n"
     ]
    }
   ],
   "source": [
    "\"\"\"\n",
    "1221. Split a String in Balanced Strings\n",
    "Acceptance Rate 86.6%\n",
    "\n",
    "https://leetcode.com/problems/split-a-string-in-balanced-strings/\n",
    "\n",
    "Return the maximum number of balanced strings you can obtain\n",
    "\"\"\"\n",
    "class Solution:\n",
    "    def balancedStringSplit(self, s: str) -> int:\n",
    "        start = 0\n",
    "        balanced_stops = [\n",
    "            stop for stop in range(len(s))\n",
    "            if s[start:stop].count('R') == s[start:stop].count('L')\n",
    "        ]\n",
    "        return len(balanced_stops)\n",
    "    \n",
    "solution = Solution()\n",
    "\n",
    "print(solution.balancedStringSplit('RLRRLLRLRL'))\n",
    "print(solution.balancedStringSplit('RLRRRLLRLL'))\n",
    "print(solution.balancedStringSplit('LLLLRRRR'))"
   ]
  },
  {
   "cell_type": "code",
   "execution_count": 12,
   "metadata": {},
   "outputs": [
    {
     "name": "stdout",
     "output_type": "stream",
     "text": [
      "dcbaefd\n",
      "zxyxxe\n",
      "abcd\n"
     ]
    }
   ],
   "source": [
    "\"\"\"\n",
    "2000. Reverse Prefix of Word\n",
    "Acceptance Rate 86.4%\n",
    "\n",
    "https://leetcode.com/problems/reverse-prefix-of-word/\n",
    "\n",
    "Return reversed segment of word that starts at index 0 and ends at\n",
    "the index of the first occurrence of ch (inclusive)\n",
    "\"\"\"\n",
    "class Solution:\n",
    "    def reversePrefix(self, word: str, ch: str) -> str:\n",
    "        ch_pos = word.find(ch) + 1\n",
    "        return word[:ch_pos][::-1] + word[ch_pos:]\n",
    "    \n",
    "solution = Solution()\n",
    "\n",
    "print(solution.reversePrefix('abcdefd', 'd'))\n",
    "print(solution.reversePrefix('xyxzxe', 'z'))\n",
    "print(solution.reversePrefix('abcd', 'z'))"
   ]
  },
  {
   "cell_type": "code",
   "execution_count": 13,
   "metadata": {},
   "outputs": [
    {
     "name": "stdout",
     "output_type": "stream",
     "text": [
      "Hello how are you\n",
      "What is the solution\n",
      "chopper is not a tanuki\n"
     ]
    }
   ],
   "source": [
    "\"\"\"\n",
    "1816. Truncate Sentence\n",
    "Acceptance Rate 85.9%\n",
    "\n",
    "https://leetcode.com/problems/truncate-sentence/\n",
    "\n",
    "Return truncated s​​​​​​ such that it contains only the first k​​​​​​ words\n",
    "\"\"\"\n",
    "class Solution:\n",
    "    def truncateSentence(self, s: str, k: int) -> str:\n",
    "        return ' '.join(s.split()[:k])\n",
    "    \n",
    "solution = Solution()\n",
    "\n",
    "print(solution.truncateSentence('Hello how are you Contestant', 4))\n",
    "print(solution.truncateSentence('What is the solution to this problem', 4))\n",
    "print(solution.truncateSentence('chopper is not a tanuki', 5))"
   ]
  },
  {
   "cell_type": "code",
   "execution_count": 14,
   "metadata": {},
   "outputs": [
    {
     "name": "stdout",
     "output_type": "stream",
     "text": [
      "True\n",
      "False\n",
      "True\n"
     ]
    }
   ],
   "source": [
    "\"\"\"\n",
    "1662. Check If Two String Arrays are Equivalent\n",
    "Acceptance Rate 85.7%\n",
    "\n",
    "https://leetcode.com/problems/check-if-two-string-arrays-are-equivalent/\n",
    "\n",
    "Return true if the two arrays represent the same string\n",
    "\"\"\"\n",
    "from typing import List\n",
    "\n",
    "class Solution:\n",
    "    def arrayStringsAreEqual(self, word1: List[str],\n",
    "                             word2: List[str]) -> bool:\n",
    "        return ''.join(word1) == ''.join(word2)\n",
    "\n",
    "solution = Solution()\n",
    "\n",
    "print(solution.arrayStringsAreEqual(['ab', 'c'], ['a', 'bc']))\n",
    "print(solution.arrayStringsAreEqual(['a', 'cb'], ['ab', 'c']))\n",
    "print(solution.arrayStringsAreEqual(['abc', 'd', 'defg'], ['abcddefg']))  \n"
   ]
  },
  {
   "cell_type": "code",
   "execution_count": 15,
   "metadata": {},
   "outputs": [
    {
     "name": "stdout",
     "output_type": "stream",
     "text": [
      "thequickbrownfxjmpsvlazydg\n",
      "this is a secret\n",
      "eljuxhpwnyrdgtqkviszcfmabo\n",
      "the five boxing wizards jump quickly\n"
     ]
    }
   ],
   "source": [
    "\"\"\"\n",
    "(THIS SOLUTION CAN BE IMPROVED)\n",
    "2325. Decode the Message\n",
    "Acceptance Rate 85.1%\n",
    "\n",
    "https://leetcode.com/problems/decode-the-message/\n",
    "\n",
    "Return the decoded message\n",
    "\"\"\"\n",
    "class Solution:\n",
    "    def decodeMessage(self, key: str, message: str) -> str:\n",
    "        alphabet = 'abcdefghijklmnopqrstuvwxyz'\n",
    "        new_key = ''\n",
    "        for letter in key.replace(' ', ''):\n",
    "            if letter not in new_key:\n",
    "                new_key += letter\n",
    "        print(new_key)\n",
    "        \n",
    "        result = ''\n",
    "        for letter in message:\n",
    "            idx = new_key.find(letter)\n",
    "            if idx == -1:\n",
    "                result += ' '\n",
    "            else:\n",
    "                result += alphabet[idx]\n",
    "        return result\n",
    "\n",
    "solution = Solution()\n",
    "\n",
    "print(solution.decodeMessage('the quick brown fox jumps over the lazy dog',\n",
    "                             'vkbs bs t suepuv'))\n",
    "print(solution.decodeMessage('eljuxhpwnyrdgtqkviszcfmabo',\n",
    "                             'zwx hnfx lqantp mnoeius ycgk vcnjrdb'))"
   ]
  },
  {
   "cell_type": "code",
   "execution_count": 16,
   "metadata": {},
   "outputs": [
    {
     "name": "stdout",
     "output_type": "stream",
     "text": [
      "leetcode\n",
      "abc\n"
     ]
    }
   ],
   "source": [
    "\"\"\"\n",
    "1528. Shuffle String\n",
    "Acceptance Rate 85.1%\n",
    "\n",
    "https://leetcode.com/problems/shuffle-string/\n",
    "\n",
    "Return the shuffled string\n",
    "\"\"\"\n",
    "from typing import List\n",
    "\n",
    "class Solution:\n",
    "    def restoreString(self, s: str, indices: List[int]) -> str:\n",
    "        ind_s = {indices[i]: s[i] for i in range(len(indices))}\n",
    "        sorted_tuple = sorted(ind_s.items(), key=lambda x: x[0])\n",
    "        ind_s = dict(sorted_tuple)   \n",
    "        return ''.join(ind_s.values())\n",
    "\n",
    "solution = Solution()\n",
    "\n",
    "print(solution.restoreString('codeleet', [4, 5, 6, 7, 0, 2, 1, 3]))\n",
    "print(solution.restoreString('abc', [0, 1, 2]))\n"
   ]
  },
  {
   "cell_type": "code",
   "execution_count": 17,
   "metadata": {},
   "outputs": [
    {
     "name": "stdout",
     "output_type": "stream",
     "text": [
      "()()()\n",
      "()()()()(())\n",
      "\n"
     ]
    }
   ],
   "source": [
    "\"\"\"\n",
    "1021. Remove Outermost Parentheses\n",
    "Acceptance Rate 84.9%\n",
    "\n",
    "https://leetcode.com/problems/remove-outermost-parentheses/\n",
    "\n",
    "Return s after removing the outermost parentheses of every primitive\n",
    "string in the primitive decomposition of s\n",
    "\"\"\"\n",
    "class Solution:\n",
    "    def removeOuterParentheses(self, s: str) -> str:\n",
    "        result = ''\n",
    "        open_p = 0\n",
    "        dec_lst = []\n",
    "        dec = ''\n",
    "        for c in s:\n",
    "            dec += c\n",
    "            if c == '(':\n",
    "                open_p += 1\n",
    "            else:\n",
    "                open_p -= 1\n",
    "            if open_p == 0:\n",
    "                dec_lst.append(dec)\n",
    "                dec = ''\n",
    "        for dec in dec_lst:\n",
    "            result += dec[1:-1]\n",
    "        return result\n",
    "    \n",
    "solution = Solution()\n",
    "\n",
    "print(solution.removeOuterParentheses('(()())(())'))\n",
    "print(solution.removeOuterParentheses('(()())(())(()(()))'))\n",
    "print(solution.removeOuterParentheses('()()'))\n"
   ]
  },
  {
   "cell_type": "code",
   "execution_count": 18,
   "metadata": {},
   "outputs": [
    {
     "name": "stdout",
     "output_type": "stream",
     "text": [
      "1\n",
      "2\n"
     ]
    }
   ],
   "source": [
    "\"\"\"\n",
    "1773. Count Items Matching a Rule\n",
    "Acceptance Rate 84.8%\n",
    "\n",
    "https://leetcode.com/problems/count-items-matching-a-rule/\n",
    "\n",
    "Return the number of items that match the given rule.\n",
    "\"\"\"\n",
    "from typing import List\n",
    "\n",
    "class Solution:\n",
    "    def countMatches(self, items: List[List[str]],\n",
    "                     ruleKey: str, ruleValue: str) -> int:\n",
    "        rule_number = {'type': 0, 'color': 1, 'name': 2} \n",
    "        return len([item for item in items \n",
    "                    if item[rule_number[ruleKey]] == ruleValue])\n",
    "    \n",
    "solution = Solution()\n",
    "\n",
    "print(solution.countMatches([['phone', 'blue', 'pixel'], \n",
    "                             ['computer', 'silver', 'lenovo'], \n",
    "                             ['phone', 'gold', 'iphone']],\n",
    "                             'color',\n",
    "                             'silver'))\n",
    "print(solution.countMatches([['phone', 'blue', 'pixel'],\n",
    "                             ['computer', 'silver', 'phone'],\n",
    "                             ['phone', 'gold', 'iphone']], \n",
    "                             'type',\n",
    "                             'phone'))\n",
    "  \n"
   ]
  },
  {
   "cell_type": "code",
   "execution_count": null,
   "metadata": {},
   "outputs": [
    {
     "name": "stdout",
     "output_type": "stream",
     "text": [
      "['Mary', 'Emma', 'John']\n",
      "['Bob', 'Alice', 'Bob']\n"
     ]
    }
   ],
   "source": [
    "\"\"\"\n",
    "2418. Sort the People\n",
    "Acceptance Rate 84.8%\n",
    "\n",
    "https://leetcode.com/problems/sort-the-people/\n",
    "\n",
    "Return names sorted in descending order by the people's heights\n",
    "\"\"\"\n",
    "from typing import List\n",
    "\n",
    "class Solution:\n",
    "    def sortPeople(self, names: List[str],\n",
    "                   heights: List[int]) -> List[str]:\n",
    "        h_n = list(zip(heights, names))\n",
    "        h_n.sort(reverse=True)\n",
    "        return [n[1] for n in h_n]\n",
    "    \n",
    "solution = Solution()\n",
    "\n",
    "print(solution.sortPeople(['Mary', 'John', 'Emma'],\n",
    "                          [180, 165, 170]))\n",
    "print(solution.sortPeople(['Alice', 'Bob', 'Bob'], \n",
    "                          [155, 185, 150]))"
   ]
  },
  {
   "cell_type": "code",
   "execution_count": 20,
   "metadata": {},
   "outputs": [
    {
     "data": {
      "text/plain": [
       "'\\n2185. Counting Words With a Given Prefix\\nAcceptance Rate 84.6%\\n\\n'"
      ]
     },
     "execution_count": 20,
     "metadata": {},
     "output_type": "execute_result"
    }
   ],
   "source": [
    "\"\"\"\n",
    "2185. Counting Words With a Given Prefix\n",
    "Acceptance Rate 84.6%\n",
    "\n",
    "\"\"\""
   ]
  },
  {
   "cell_type": "code",
   "execution_count": 21,
   "metadata": {},
   "outputs": [
    {
     "data": {
      "text/plain": [
       "'\\n1614. Maximum Nesting Depth of the Parentheses\\nAcceptance Rate 84.2%\\n\\n'"
      ]
     },
     "execution_count": 21,
     "metadata": {},
     "output_type": "execute_result"
    }
   ],
   "source": [
    "\"\"\"\n",
    "1614. Maximum Nesting Depth of the Parentheses\n",
    "Acceptance Rate 84.2%\n",
    "\n",
    "\"\"\""
   ]
  },
  {
   "cell_type": "code",
   "execution_count": 22,
   "metadata": {},
   "outputs": [
    {
     "data": {
      "text/plain": [
       "'\\n2194. Cells in a Range on an Excel Sheet\\nAcceptance Rate 84.0%\\n\\n'"
      ]
     },
     "execution_count": 22,
     "metadata": {},
     "output_type": "execute_result"
    }
   ],
   "source": [
    "\"\"\"\n",
    "2194. Cells in a Range on an Excel Sheet\n",
    "Acceptance Rate 84.0%\n",
    "\n",
    "\"\"\""
   ]
  },
  {
   "cell_type": "code",
   "execution_count": 23,
   "metadata": {},
   "outputs": [
    {
     "data": {
      "text/plain": [
       "'\\n709. To Lower Case\\nAcceptance Rate 84.0%\\n\\n'"
      ]
     },
     "execution_count": 23,
     "metadata": {},
     "output_type": "execute_result"
    }
   ],
   "source": [
    "\"\"\"\n",
    "709. To Lower Case\n",
    "Acceptance Rate 84.0%\n",
    "\n",
    "\"\"\""
   ]
  },
  {
   "cell_type": "code",
   "execution_count": 24,
   "metadata": {},
   "outputs": [
    {
     "data": {
      "text/plain": [
       "'\\n2108. Find First Palindromic String in the Array\\nAcceptance Rate 83.9%\\n\\n'"
      ]
     },
     "execution_count": 24,
     "metadata": {},
     "output_type": "execute_result"
    }
   ],
   "source": [
    "\"\"\"\n",
    "2108. Find First Palindromic String in the Array\n",
    "Acceptance Rate 83.9%\n",
    "\n",
    "\"\"\""
   ]
  },
  {
   "cell_type": "code",
   "execution_count": 25,
   "metadata": {},
   "outputs": [
    {
     "data": {
      "text/plain": [
       "'\\n2810. Faulty Keyboard\\nAcceptance Rate 83.8%\\n\\n'"
      ]
     },
     "execution_count": 25,
     "metadata": {},
     "output_type": "execute_result"
    }
   ],
   "source": [
    "\"\"\"\n",
    "2810. Faulty Keyboard\n",
    "Acceptance Rate 83.8%\n",
    "\n",
    "\"\"\""
   ]
  },
  {
   "cell_type": "code",
   "execution_count": 26,
   "metadata": {},
   "outputs": [
    {
     "data": {
      "text/plain": [
       "'\\n1832. Check if the Sentence Is Pangram\\nAcceptance Rate 83.7%\\n\\n'"
      ]
     },
     "execution_count": 26,
     "metadata": {},
     "output_type": "execute_result"
    }
   ],
   "source": [
    "\"\"\"\n",
    "1832. Check if the Sentence Is Pangram\n",
    "Acceptance Rate 83.7%\n",
    "\n",
    "\"\"\""
   ]
  },
  {
   "cell_type": "code",
   "execution_count": 27,
   "metadata": {},
   "outputs": [
    {
     "data": {
      "text/plain": [
       "'\\n1859. Sorting the Sentence\\nAcceptance Rate 83.6%\\n\\n'"
      ]
     },
     "execution_count": 27,
     "metadata": {},
     "output_type": "execute_result"
    }
   ],
   "source": [
    "\"\"\"\n",
    "1859. Sorting the Sentence\n",
    "Acceptance Rate 83.6%\n",
    "\n",
    "\"\"\""
   ]
  },
  {
   "cell_type": "code",
   "execution_count": 28,
   "metadata": {},
   "outputs": [
    {
     "data": {
      "text/plain": [
       "'\\n557. Reverse Words in a String III\\nAcceptance Rate 83.5%\\n\\n'"
      ]
     },
     "execution_count": 28,
     "metadata": {},
     "output_type": "execute_result"
    }
   ],
   "source": [
    "\"\"\"\n",
    "557. Reverse Words in a String III\n",
    "Acceptance Rate 83.5%\n",
    "\n",
    "\"\"\""
   ]
  },
  {
   "cell_type": "code",
   "execution_count": 29,
   "metadata": {},
   "outputs": [
    {
     "data": {
      "text/plain": [
       "'\\n804. Unique Morse Code Words\\nAcceptance Rate 83.1%\\n\\n'"
      ]
     },
     "execution_count": 29,
     "metadata": {},
     "output_type": "execute_result"
    }
   ],
   "source": [
    "\"\"\"\n",
    "804. Unique Morse Code Words\n",
    "Acceptance Rate 83.1%\n",
    "\n",
    "\"\"\""
   ]
  },
  {
   "cell_type": "code",
   "execution_count": 30,
   "metadata": {},
   "outputs": [
    {
     "data": {
      "text/plain": [
       "'\\n2864. Maximum Odd Binary Number\\nAcceptance Rate 83.0%\\n\\n'"
      ]
     },
     "execution_count": 30,
     "metadata": {},
     "output_type": "execute_result"
    }
   ],
   "source": [
    "\"\"\"\n",
    "2864. Maximum Odd Binary Number\n",
    "Acceptance Rate 83.0%\n",
    "\n",
    "\"\"\""
   ]
  },
  {
   "cell_type": "code",
   "execution_count": 31,
   "metadata": {},
   "outputs": [
    {
     "data": {
      "text/plain": [
       "'\\n2828. Check if a String Is an Acronym of Words\\nAcceptance Rate 83.0%\\n\\n'"
      ]
     },
     "execution_count": 31,
     "metadata": {},
     "output_type": "execute_result"
    }
   ],
   "source": [
    "\"\"\"\n",
    "2828. Check if a String Is an Acronym of Words\n",
    "Acceptance Rate 83.0%\n",
    "\n",
    "\"\"\""
   ]
  },
  {
   "cell_type": "code",
   "execution_count": 32,
   "metadata": {},
   "outputs": [
    {
     "data": {
      "text/plain": [
       "'\\n3248. Snake in Matrix\\nAcceptance Rate 82.8%\\n\\n'"
      ]
     },
     "execution_count": 32,
     "metadata": {},
     "output_type": "execute_result"
    }
   ],
   "source": [
    "\"\"\"\n",
    "3248. Snake in Matrix\n",
    "Acceptance Rate 82.8%\n",
    "\n",
    "\"\"\""
   ]
  },
  {
   "cell_type": "code",
   "execution_count": 33,
   "metadata": {},
   "outputs": [
    {
     "data": {
      "text/plain": [
       "'\\n2315. Count Asterisks\\nAcceptance Rate 82.6%\\n\\n'"
      ]
     },
     "execution_count": 33,
     "metadata": {},
     "output_type": "execute_result"
    }
   ],
   "source": [
    "\"\"\"\n",
    "2315. Count Asterisks\n",
    "Acceptance Rate 82.6%\n",
    "\n",
    "\"\"\""
   ]
  },
  {
   "cell_type": "code",
   "execution_count": 34,
   "metadata": {},
   "outputs": [
    {
     "data": {
      "text/plain": [
       "'\\n2053. Kth Distinct String in an Array\\nAcceptance Rate 82.0%\\n\\n'"
      ]
     },
     "execution_count": 34,
     "metadata": {},
     "output_type": "execute_result"
    }
   ],
   "source": [
    "\"\"\"\n",
    "2053. Kth Distinct String in an Array\n",
    "Acceptance Rate 82.0%\n",
    "\n",
    "\"\"\""
   ]
  },
  {
   "cell_type": "code",
   "execution_count": 35,
   "metadata": {},
   "outputs": [
    {
     "data": {
      "text/plain": [
       "'\\n1844. Replace All Digits with Characters\\nAcceptance Rate 82.0%\\n\\n'"
      ]
     },
     "execution_count": 35,
     "metadata": {},
     "output_type": "execute_result"
    }
   ],
   "source": [
    "\"\"\"\n",
    "1844. Replace All Digits with Characters\n",
    "Acceptance Rate 82.0%\n",
    "\n",
    "\"\"\""
   ]
  },
  {
   "cell_type": "code",
   "execution_count": 36,
   "metadata": {},
   "outputs": [
    {
     "data": {
      "text/plain": [
       "'\\n1967. Number of Strings That Appear as Substrings in Word\\nAcceptance Rate 81.8%\\n\\n'"
      ]
     },
     "execution_count": 36,
     "metadata": {},
     "output_type": "execute_result"
    }
   ],
   "source": [
    "\"\"\"\n",
    "1967. Number of Strings That Appear as Substrings in Word\n",
    "Acceptance Rate 81.8%\n",
    "\n",
    "\"\"\""
   ]
  },
  {
   "cell_type": "code",
   "execution_count": 37,
   "metadata": {},
   "outputs": [
    {
     "data": {
      "text/plain": [
       "'\\n1768. Merge Strings Alternately\\nAcceptance Rate 81.8%\\n\\n'"
      ]
     },
     "execution_count": 37,
     "metadata": {},
     "output_type": "execute_result"
    }
   ],
   "source": [
    "\"\"\"\n",
    "1768. Merge Strings Alternately\n",
    "Acceptance Rate 81.8%\n",
    "\n",
    "\"\"\""
   ]
  },
  {
   "cell_type": "code",
   "execution_count": 38,
   "metadata": {},
   "outputs": [
    {
     "data": {
      "text/plain": [
       "'\\n2744. Find Maximum Number of String Pairs\\nAcceptance Rate 81.5%\\n\\n'"
      ]
     },
     "execution_count": 38,
     "metadata": {},
     "output_type": "execute_result"
    }
   ],
   "source": [
    "\"\"\"\n",
    "2744. Find Maximum Number of String Pairs\n",
    "Acceptance Rate 81.5%\n",
    "\n",
    "\"\"\""
   ]
  },
  {
   "cell_type": "code",
   "execution_count": 39,
   "metadata": {},
   "outputs": [
    {
     "data": {
      "text/plain": [
       "'\\n2678. Number of Senior Citizens\\nAcceptance Rate 81.4%\\n\\n'"
      ]
     },
     "execution_count": 39,
     "metadata": {},
     "output_type": "execute_result"
    }
   ],
   "source": [
    "\"\"\"\n",
    "2678. Number of Senior Citizens\n",
    "Acceptance Rate 81.4%\n",
    "\n",
    "\"\"\""
   ]
  },
  {
   "cell_type": "code",
   "execution_count": 40,
   "metadata": {},
   "outputs": [
    {
     "data": {
      "text/plain": [
       "'\\n2103. Rings and Rods\\nAcceptance Rate 81.0%\\n\\n'"
      ]
     },
     "execution_count": 40,
     "metadata": {},
     "output_type": "execute_result"
    }
   ],
   "source": [
    "\"\"\"\n",
    "2103. Rings and Rods\n",
    "Acceptance Rate 81.0%\n",
    "\n",
    "\"\"\""
   ]
  },
  {
   "cell_type": "code",
   "execution_count": 41,
   "metadata": {},
   "outputs": [
    {
     "data": {
      "text/plain": [
       "'\\n3019. Number of Changing Keys\\nAcceptance Rate 80.3%\\n\\n'"
      ]
     },
     "execution_count": 41,
     "metadata": {},
     "output_type": "execute_result"
    }
   ],
   "source": [
    "\"\"\"\n",
    "3019. Number of Changing Keys\n",
    "Acceptance Rate 80.3%\n",
    "\n",
    "\"\"\""
   ]
  },
  {
   "cell_type": "code",
   "execution_count": 42,
   "metadata": {},
   "outputs": [
    {
     "data": {
      "text/plain": [
       "'\\n1309. Decrypt String from Alphabet to Integer Mapping\\nAcceptance Rate 80.1%\\n\\n'"
      ]
     },
     "execution_count": 42,
     "metadata": {},
     "output_type": "execute_result"
    }
   ],
   "source": [
    "\"\"\"\n",
    "1309. Decrypt String from Alphabet to Integer Mapping\n",
    "Acceptance Rate 80.1%\n",
    "\n",
    "\"\"\""
   ]
  },
  {
   "cell_type": "code",
   "execution_count": 43,
   "metadata": {},
   "outputs": [
    {
     "data": {
      "text/plain": [
       "'\\n344. Reverse String\\nAcceptance Rate 79.5%\\n\\n'"
      ]
     },
     "execution_count": 43,
     "metadata": {},
     "output_type": "execute_result"
    }
   ],
   "source": [
    "\"\"\"\n",
    "344. Reverse String\n",
    "Acceptance Rate 79.5%\n",
    "\n",
    "\"\"\""
   ]
  },
  {
   "cell_type": "code",
   "execution_count": 44,
   "metadata": {},
   "outputs": [
    {
     "data": {
      "text/plain": [
       "'\\n1812. Determine Color of a Chessboard Square\\nAcceptance Rate 79.1%\\n\\n'"
      ]
     },
     "execution_count": 44,
     "metadata": {},
     "output_type": "execute_result"
    }
   ],
   "source": [
    "\"\"\"\n",
    "1812. Determine Color of a Chessboard Square\n",
    "Acceptance Rate 79.1%\n",
    "\n",
    "\"\"\""
   ]
  },
  {
   "cell_type": "code",
   "execution_count": 45,
   "metadata": {},
   "outputs": [
    {
     "data": {
      "text/plain": [
       "'\\n2710. Remove Trailing Zeros From a String\\nAcceptance Rate 79.0%\\n\\n'"
      ]
     },
     "execution_count": 45,
     "metadata": {},
     "output_type": "execute_result"
    }
   ],
   "source": [
    "\"\"\"\n",
    "2710. Remove Trailing Zeros From a String\n",
    "Acceptance Rate 79.0%\n",
    "\n",
    "\"\"\""
   ]
  },
  {
   "cell_type": "code",
   "execution_count": 46,
   "metadata": {},
   "outputs": [
    {
     "data": {
      "text/plain": [
       "'\\n1704. Determine if String Halves Are Alike\\nAcceptance Rate 78.6%\\n\\n'"
      ]
     },
     "execution_count": 46,
     "metadata": {},
     "output_type": "execute_result"
    }
   ],
   "source": [
    "\"\"\"\n",
    "1704. Determine if String Halves Are Alike\n",
    "Acceptance Rate 78.6%\n",
    "\n",
    "\"\"\""
   ]
  },
  {
   "cell_type": "code",
   "execution_count": 47,
   "metadata": {},
   "outputs": [
    {
     "data": {
      "text/plain": [
       "'\\n1941. Check if All Characters Have Equal Number of Occurrences\\nAcceptance Rate 78.5%\\n\\n'"
      ]
     },
     "execution_count": 47,
     "metadata": {},
     "output_type": "execute_result"
    }
   ],
   "source": [
    "\"\"\"\n",
    "1941. Check if All Characters Have Equal Number of Occurrences\n",
    "Acceptance Rate 78.5%\n",
    "\n",
    "\"\"\""
   ]
  },
  {
   "cell_type": "code",
   "execution_count": 48,
   "metadata": {},
   "outputs": [
    {
     "data": {
      "text/plain": [
       "'\\n1374. Generate a String With Characters That Have Odd Counts\\nAcceptance Rate 78.2%\\n\\n'"
      ]
     },
     "execution_count": 48,
     "metadata": {},
     "output_type": "execute_result"
    }
   ],
   "source": [
    "\"\"\"\n",
    "1374. Generate a String With Characters That Have Odd Counts\n",
    "Acceptance Rate 78.2%\n",
    "\n",
    "\"\"\""
   ]
  },
  {
   "cell_type": "code",
   "execution_count": 49,
   "metadata": {},
   "outputs": [
    {
     "data": {
      "text/plain": [
       "'\\n1974. Minimum Time to Type Word Using Special Typewriter\\nAcceptance Rate 76.7%\\n\\n'"
      ]
     },
     "execution_count": 49,
     "metadata": {},
     "output_type": "execute_result"
    }
   ],
   "source": [
    "\"\"\"\n",
    "1974. Minimum Time to Type Word Using Special Typewriter\n",
    "Acceptance Rate 76.7%\n",
    "\n",
    "\"\"\""
   ]
  },
  {
   "cell_type": "code",
   "execution_count": 50,
   "metadata": {},
   "outputs": [
    {
     "data": {
      "text/plain": [
       "'\\n2788. Split Strings by Separator\\nAcceptance Rate 75.5%\\n\\n'"
      ]
     },
     "execution_count": 50,
     "metadata": {},
     "output_type": "execute_result"
    }
   ],
   "source": [
    "\"\"\"\n",
    "2788. Split Strings by Separator\n",
    "Acceptance Rate 75.5%\n",
    "\n",
    "\"\"\""
   ]
  },
  {
   "cell_type": "code",
   "execution_count": 51,
   "metadata": {},
   "outputs": [
    {
     "data": {
      "text/plain": [
       "'\\n1945. Sum of Digits of String After Convert\\nAcceptance Rate 74.9%\\n\\n'"
      ]
     },
     "execution_count": 51,
     "metadata": {},
     "output_type": "execute_result"
    }
   ],
   "source": [
    "\"\"\"\n",
    "1945. Sum of Digits of String After Convert\n",
    "Acceptance Rate 74.9%\n",
    "\n",
    "\"\"\""
   ]
  },
  {
   "cell_type": "code",
   "execution_count": 52,
   "metadata": {},
   "outputs": [
    {
     "data": {
      "text/plain": [
       "'\\n1880. Check if Word Equals Summation of Two Words\\nAcceptance Rate 74.7%\\n\\n'"
      ]
     },
     "execution_count": 52,
     "metadata": {},
     "output_type": "execute_result"
    }
   ],
   "source": [
    "\"\"\"\n",
    "1880. Check if Word Equals Summation of Two Words\n",
    "Acceptance Rate 74.7%\n",
    "\n",
    "\"\"\""
   ]
  },
  {
   "cell_type": "code",
   "execution_count": 53,
   "metadata": {},
   "outputs": [
    {
     "data": {
      "text/plain": [
       "'\\n2586. Count the Number of Vowel Strings in Range\\nAcceptance Rate 74.5%\\n\\n'"
      ]
     },
     "execution_count": 53,
     "metadata": {},
     "output_type": "execute_result"
    }
   ],
   "source": [
    "\"\"\"\n",
    "2586. Count the Number of Vowel Strings in Range\n",
    "Acceptance Rate 74.5%\n",
    "\n",
    "\"\"\""
   ]
  },
  {
   "cell_type": "code",
   "execution_count": 54,
   "metadata": {},
   "outputs": [
    {
     "data": {
      "text/plain": [
       "'\\n2506. Count Pairs Of Similar Strings\\nAcceptance Rate 72.1%\\n\\n'"
      ]
     },
     "execution_count": 54,
     "metadata": {},
     "output_type": "execute_result"
    }
   ],
   "source": [
    "\"\"\"\n",
    "2506. Count Pairs Of Similar Strings\n",
    "Acceptance Rate 72.1%\n",
    "\n",
    "\"\"\""
   ]
  },
  {
   "cell_type": "code",
   "execution_count": 55,
   "metadata": {},
   "outputs": [
    {
     "data": {
      "text/plain": [
       "'\\n2042. Check if Numbers Are Ascending in a Sentence\\nAcceptance Rate 71.2%\\n\\n'"
      ]
     },
     "execution_count": 55,
     "metadata": {},
     "output_type": "execute_result"
    }
   ],
   "source": [
    "\"\"\"\n",
    "2042. Check if Numbers Are Ascending in a Sentence\n",
    "Acceptance Rate 71.2%\n",
    "\n",
    "\"\"\""
   ]
  },
  {
   "cell_type": "code",
   "execution_count": 56,
   "metadata": {},
   "outputs": [
    {
     "data": {
      "text/plain": [
       "'\\n2062. Count Vowel Substrings of a String\\nAcceptance Rate 69.8%\\n\\n'"
      ]
     },
     "execution_count": 56,
     "metadata": {},
     "output_type": "execute_result"
    }
   ],
   "source": [
    "\"\"\"\n",
    "2062. Count Vowel Substrings of a String\n",
    "Acceptance Rate 69.8%\n",
    "\n",
    "\"\"\""
   ]
  },
  {
   "cell_type": "code",
   "execution_count": 57,
   "metadata": {},
   "outputs": [
    {
     "data": {
      "text/plain": [
       "'\\n13. Roman to Integer\\nAcceptance Rate 64.1%\\n\\n'"
      ]
     },
     "execution_count": 57,
     "metadata": {},
     "output_type": "execute_result"
    }
   ],
   "source": [
    "\"\"\"\n",
    "13. Roman to Integer\n",
    "Acceptance Rate 64.1%\n",
    "\n",
    "\"\"\""
   ]
  },
  {
   "cell_type": "code",
   "execution_count": 58,
   "metadata": {},
   "outputs": [
    {
     "data": {
      "text/plain": [
       "'\\n2068. Check Whether Two Strings are Almost Equivalent\\nAcceptance Rate 64.0%\\n\\n'"
      ]
     },
     "execution_count": 58,
     "metadata": {},
     "output_type": "execute_result"
    }
   ],
   "source": [
    "\"\"\"\n",
    "2068. Check Whether Two Strings are Almost Equivalent\n",
    "Acceptance Rate 64.0%\n",
    "\n",
    "\"\"\""
   ]
  },
  {
   "cell_type": "code",
   "execution_count": 59,
   "metadata": {},
   "outputs": [
    {
     "data": {
      "text/plain": [
       "'\\n2027. Minimum Moves to Convert String\\nAcceptance Rate 55.9%\\n\\n'"
      ]
     },
     "execution_count": 59,
     "metadata": {},
     "output_type": "execute_result"
    }
   ],
   "source": [
    "\"\"\"\n",
    "2027. Minimum Moves to Convert String\n",
    "Acceptance Rate 55.9%\n",
    "\n",
    "\"\"\""
   ]
  },
  {
   "cell_type": "code",
   "execution_count": 60,
   "metadata": {},
   "outputs": [
    {
     "data": {
      "text/plain": [
       "'\\n58. Length of Last Word\\nAcceptance Rate 55.4%\\n\\n'"
      ]
     },
     "execution_count": 60,
     "metadata": {},
     "output_type": "execute_result"
    }
   ],
   "source": [
    "\"\"\"\n",
    "58. Length of Last Word\n",
    "Acceptance Rate 55.4%\n",
    "\n",
    "\"\"\""
   ]
  },
  {
   "cell_type": "code",
   "execution_count": 61,
   "metadata": {},
   "outputs": [
    {
     "data": {
      "text/plain": [
       "'\\n67. Add Binary\\nAcceptance Rate 55.2%\\n\\n'"
      ]
     },
     "execution_count": 61,
     "metadata": {},
     "output_type": "execute_result"
    }
   ],
   "source": [
    "\"\"\"\n",
    "67. Add Binary\n",
    "Acceptance Rate 55.2%\n",
    "\n",
    "\"\"\""
   ]
  },
  {
   "cell_type": "code",
   "execution_count": 62,
   "metadata": {},
   "outputs": [
    {
     "data": {
      "text/plain": [
       "'\\n1961. Check If String Is a Prefix of Array\\nAcceptance Rate 52.6%\\n\\n'"
      ]
     },
     "execution_count": 62,
     "metadata": {},
     "output_type": "execute_result"
    }
   ],
   "source": [
    "\"\"\"\n",
    "1961. Check If String Is a Prefix of Array\n",
    "Acceptance Rate 52.6%\n",
    "\n",
    "\"\"\""
   ]
  },
  {
   "cell_type": "code",
   "execution_count": 63,
   "metadata": {},
   "outputs": [
    {
     "data": {
      "text/plain": [
       "'\\n125. Valid Palindrome\\nAcceptance Rate 50.1%\\n\\n'"
      ]
     },
     "execution_count": 63,
     "metadata": {},
     "output_type": "execute_result"
    }
   ],
   "source": [
    "\"\"\"\n",
    "125. Valid Palindrome\n",
    "Acceptance Rate 50.1%\n",
    "\n",
    "\"\"\""
   ]
  },
  {
   "cell_type": "code",
   "execution_count": 64,
   "metadata": {},
   "outputs": [
    {
     "data": {
      "text/plain": [
       "'\\n14. Longest Common Prefix\\nAcceptance Rate 44.8%\\n\\n'"
      ]
     },
     "execution_count": 64,
     "metadata": {},
     "output_type": "execute_result"
    }
   ],
   "source": [
    "\"\"\"\n",
    "14. Longest Common Prefix\n",
    "Acceptance Rate 44.8%\n",
    "\n",
    "\"\"\""
   ]
  },
  {
   "cell_type": "code",
   "execution_count": 65,
   "metadata": {},
   "outputs": [
    {
     "data": {
      "text/plain": [
       "'\\n28. Find the Index of the First Occurrence in a String\\nAcceptance Rate 44.4%\\n\\n'"
      ]
     },
     "execution_count": 65,
     "metadata": {},
     "output_type": "execute_result"
    }
   ],
   "source": [
    "\"\"\"\n",
    "28. Find the Index of the First Occurrence in a String\n",
    "Acceptance Rate 44.4%\n",
    "\n",
    "\"\"\""
   ]
  },
  {
   "cell_type": "code",
   "execution_count": 66,
   "metadata": {},
   "outputs": [
    {
     "data": {
      "text/plain": [
       "'\\n20. Valid Parentheses\\nAcceptance Rate 41.8%\\n\\n'"
      ]
     },
     "execution_count": 66,
     "metadata": {},
     "output_type": "execute_result"
    }
   ],
   "source": [
    "\"\"\"\n",
    "20. Valid Parentheses\n",
    "Acceptance Rate 41.8%\n",
    "\n",
    "\"\"\""
   ]
  },
  {
   "cell_type": "code",
   "execution_count": 67,
   "metadata": {},
   "outputs": [
    {
     "data": {
      "text/plain": [
       "'\\n2047. Number of Valid Words in a Sentence\\nAcceptance Rate 29.8%\\n\\n'"
      ]
     },
     "execution_count": 67,
     "metadata": {},
     "output_type": "execute_result"
    }
   ],
   "source": [
    "\"\"\"\n",
    "2047. Number of Valid Words in a Sentence\n",
    "Acceptance Rate 29.8%\n",
    "\n",
    "\"\"\""
   ]
  },
  {
   "cell_type": "code",
   "execution_count": 68,
   "metadata": {},
   "outputs": [
    {
     "data": {
      "text/plain": [
       "'\\n2423. Remove Letter To Equalize Frequency\\nAcceptance Rate 17.9%\\n\\n'"
      ]
     },
     "execution_count": 68,
     "metadata": {},
     "output_type": "execute_result"
    }
   ],
   "source": [
    "\"\"\"\n",
    "2423. Remove Letter To Equalize Frequency\n",
    "Acceptance Rate 17.9%\n",
    "\n",
    "\"\"\""
   ]
  }
 ],
 "metadata": {
  "kernelspec": {
   "display_name": "venv",
   "language": "python",
   "name": "python3"
  },
  "language_info": {
   "codemirror_mode": {
    "name": "ipython",
    "version": 3
   },
   "file_extension": ".py",
   "mimetype": "text/x-python",
   "name": "python",
   "nbconvert_exporter": "python",
   "pygments_lexer": "ipython3",
   "version": "3.11.9"
  }
 },
 "nbformat": 4,
 "nbformat_minor": 2
}
