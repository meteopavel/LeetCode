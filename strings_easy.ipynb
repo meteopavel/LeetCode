{
 "cells": [
  {
   "cell_type": "code",
   "execution_count": null,
   "metadata": {},
   "outputs": [],
   "source": [
    "\"\"\"\n",
    "3110. Score of a String\n",
    "Acceptance Rate 92.3%\n",
    "\n",
    "https://leetcode.com/problems/score-of-a-string/description/?envType=problem-list-v2&envId=string\n",
    "\n",
    "Return a sum of absolute differences between ASCII values of adjacent characters\n",
    "\"\"\"\n",
    "class Solution:\n",
    "    def scoreOfString(self, s: str) -> int:\n",
    "        return sum(abs(ord(s[i]) - ord(s[i + 1])) for i in range(len(s) - 1))\n",
    "\n",
    "solution = Solution()    \n",
    "\n",
    "print(solution.scoreOfString('hello'))\n",
    "print(solution.scoreOfString('zaz'))"
   ]
  },
  {
   "cell_type": "code",
   "execution_count": null,
   "metadata": {},
   "outputs": [],
   "source": [
    "\"\"\"\n",
    "2011. Final Value of Variable After Performing Operations\n",
    "Acceptance Rate 89.5%\n",
    "\n",
    "https://leetcode.com/problems/final-value-of-variable-after-performing-operations/description/?envType=problem-list-v2&envId=string\n",
    "\n",
    "Return a final value of X after performing all the operations. Initially, the value of X is 0. \n",
    "\"\"\"\n",
    "from typing import List\n",
    "\n",
    "class Solution:\n",
    "    def finalValueAfterOperations(self, operations: List[str]) -> int:\n",
    "        return sum(1 for o in operations if '+' in o) - sum(1 for o in operations if '-' in o)\n",
    "    \n",
    "solution = Solution()\n",
    "\n",
    "print(solution.finalValueAfterOperations(['--X', 'X++', 'X++']))\n",
    "print(solution.finalValueAfterOperations(['++X', '++X', 'X++']))\n",
    "print(solution.finalValueAfterOperations(['X++', '++X', '--X', 'X--']))"
   ]
  },
  {
   "cell_type": "code",
   "execution_count": null,
   "metadata": {},
   "outputs": [],
   "source": [
    "\"\"\"\n",
    "1108. Defanging an IP Address\n",
    "Acceptance Rate 89.5%\n",
    "\n",
    "https://leetcode.com/problems/defanging-an-ip-address/description/?envType=problem-list-v2&envId=string\n",
    "\n",
    "Return a defanged IP address replaces every period \".\" with \"[.]\"\n",
    "\"\"\"\n",
    "class Solution:\n",
    "    def defangIPaddr(self, address: str) -> str:\n",
    "        return address.replace('.', '[.]')\n",
    "    \n",
    "solution = Solution()\n",
    "\n",
    "print(solution.defangIPaddr('1.1.1.1'))\n",
    "print(solution.defangIPaddr('255.100.50.0'))"
   ]
  },
  {
   "cell_type": "code",
   "execution_count": null,
   "metadata": {},
   "outputs": [],
   "source": [
    "\"\"\"\n",
    "771. Jewels and Stones\n",
    "Acceptance Rate 89.1%\n",
    "\n",
    "https://leetcode.com/problems/jewels-and-stones/description/?envType=problem-list-v2&envId=string\n",
    "\n",
    "Return how many of the stones you have are also jewels\n",
    "\"\"\"\n",
    "class Solution:\n",
    "    def numJewelsInStones(self, jewels: str, stones: str) -> int:\n",
    "        return sum(stone in jewels for stone in stones)\n",
    "    \n",
    "solution = Solution()\n",
    "\n",
    "print(solution.numJewelsInStones('aA', 'aAAbbbb'))\n",
    "print(solution.numJewelsInStones('z', 'ZZ'))"
   ]
  },
  {
   "cell_type": "code",
   "execution_count": null,
   "metadata": {},
   "outputs": [],
   "source": [
    "\"\"\"\n",
    "3280. Convert Date to Binary\n",
    "Acceptance Rate 88.6%\n",
    "\n",
    "https://leetcode.com/problems/convert-date-to-binary/description/?envType=problem-list-v2&envId=string\n",
    "\n",
    "Return the binary representation of date\n",
    "\"\"\"\n",
    "class Solution:\n",
    "    def convertDateToBinary(self, date: str) -> str:\n",
    "        return '-'.join([bin(int(n))[2:] for n in date.split('-')])\n",
    "    \n",
    "solution = Solution()\n",
    "\n",
    "print(solution.convertDateToBinary('2080-02-29'))\n",
    "print(solution.convertDateToBinary('1900-01-01'))"
   ]
  },
  {
   "cell_type": "code",
   "execution_count": null,
   "metadata": {},
   "outputs": [],
   "source": [
    "\"\"\"\n",
    "2942. Find Words Containing Character\n",
    "Acceptance Rate 88.6%\n",
    "\n",
    "https://leetcode.com/problems/find-words-containing-character/description/?envType=problem-list-v2&envId=string\n",
    "\n",
    "Return an array of indices representing the words that contain the character x\n",
    "\"\"\"\n",
    "from typing import List\n",
    "\n",
    "class Solution:\n",
    "    def findWordsContaining(self, words: List[str], x: str) -> List[int]:\n",
    "        return [i for i in range(len(words)) if x in words[i]]\n",
    "\n",
    "solution = Solution()\n",
    "\n",
    "print(solution.findWordsContaining(['leet', 'code'], 'e'))\n",
    "print(solution.findWordsContaining(['abc', 'bcd', 'aaaa', 'cbc'], 'a'))\n",
    "print(solution.findWordsContaining(['abc', 'bcd', 'aaaa', 'cbc'], 'z'))"
   ]
  },
  {
   "cell_type": "code",
   "execution_count": null,
   "metadata": {},
   "outputs": [],
   "source": [
    "\"\"\"\n",
    "1684. Count the Number of Consistent Strings\n",
    "Acceptance Rate 88.2%\n",
    "\n",
    "https://leetcode.com/problems/count-the-number-of-consistent-strings/description/?envType=problem-list-v2&envId=string\n",
    "\n",
    "Return the number of strings in the array words if all characters in the string\n",
    "appear in the string allowed\n",
    "\"\"\"\n",
    "from typing import List\n",
    "\n",
    "class Solution:\n",
    "    def countConsistentStrings(self, allowed: str, words: List[str]) -> int:\n",
    "        return sum(set(word).issubset(set(allowed)) for word in words)\n",
    "    \n",
    "solution = Solution()\n",
    "\n",
    "print(solution.countConsistentStrings('ab', ['ad', 'bd', 'aaab', 'baa', 'badab']))\n",
    "print(solution.countConsistentStrings('abc', ['a', 'b', 'c', 'ab', 'ac', 'bc', 'abc']))\n",
    "print(solution.countConsistentStrings('cad', ['cc', 'acd', 'b', 'ba', 'bac', 'bad', 'ac', 'd']))"
   ]
  },
  {
   "cell_type": "code",
   "execution_count": null,
   "metadata": {},
   "outputs": [],
   "source": [
    "\"\"\"\n",
    "3146. Permutation Difference between Two Strings\n",
    "Acceptance Rate 88.0%\n",
    "\n",
    "https://leetcode.com/problems/permutation-difference-between-two-strings/description/?envType=problem-list-v2&envId=string\n",
    "\n",
    "Return the absolute difference between the index of the occurrence of each character\n",
    "in s and the index of the occurrence of the same character in t\n",
    "\"\"\"\n",
    "class Solution:\n",
    "    def findPermutationDifference(self, s: str, t: str) -> int:\n",
    "        return sum(abs(s.find(c) - t.find(c)) for c in s)\n",
    "    \n",
    "solution = Solution()\n",
    "\n",
    "print(solution.findPermutationDifference('abc', 'bac'))\n",
    "print(solution.findPermutationDifference('abcde', 'edbac'))"
   ]
  },
  {
   "cell_type": "code",
   "execution_count": null,
   "metadata": {},
   "outputs": [],
   "source": [
    "\"\"\"\n",
    "1678. Goal Parser Interpretation\n",
    "Acceptance Rate 87.6%\n",
    "\n",
    "https://leetcode.com/problems/goal-parser-interpretation/description/?envType=problem-list-v2&envId=string\n",
    "\n",
    "Return the Goal Parser's interpretation of command\n",
    "\"\"\"\n",
    "class Solution:\n",
    "    def interpret(self, command: str) -> str:\n",
    "        special_letters_dict = {\n",
    "            '()': 'o',\n",
    "            '(al)': 'al',\n",
    "        }\n",
    "        for special_letter in special_letters_dict:\n",
    "            command = command.replace(\n",
    "                special_letter,\n",
    "                special_letters_dict[special_letter])\n",
    "        return command\n",
    "    \n",
    "solution = Solution()\n",
    "\n",
    "print(solution.interpret('G()(al)'))\n",
    "print(solution.interpret('G()()()()(al)'))\n",
    "print(solution.interpret('(al)G(al)()()G'))"
   ]
  },
  {
   "cell_type": "code",
   "execution_count": null,
   "metadata": {},
   "outputs": [],
   "source": [
    "\"\"\"\n",
    "2114. Maximum Number of Words Found in Sentences\n",
    "Acceptance Rate 86.6%\n",
    "\n",
    "https://leetcode.com/problems/maximum-number-of-words-found-in-sentences/description/?envType=problem-list-v2&envId=string\n",
    "\n",
    "Return the maximum number of words that appear in a single sentence\n",
    "\"\"\"\n",
    "from typing import List\n",
    "\n",
    "class Solution:\n",
    "    def mostWordsFound(self, sentences: List[str]) -> int:\n",
    "        return max([len(sentence.split()) for sentence in sentences])\n",
    "     \n",
    "solution = Solution()\n",
    "\n",
    "print(solution.mostWordsFound(['alice and bob love leetcode', 'i think so too',\n",
    "                               'this is great thanks very much']))\n",
    "print(solution.mostWordsFound(['please wait','continue to fight', 'continue to win']))"
   ]
  },
  {
   "cell_type": "code",
   "execution_count": null,
   "metadata": {},
   "outputs": [],
   "source": [
    "\"\"\"\n",
    "1221. Split a String in Balanced Strings\n",
    "Acceptance Rate 86.6%\n",
    "\n",
    "https://leetcode.com/problems/split-a-string-in-balanced-strings/description/?envType=problem-list-v2&envId=string\n",
    "\n",
    "Return the maximum number of balanced strings you can obtain\n",
    "\"\"\"\n",
    "class Solution:\n",
    "    def balancedStringSplit(self, s: str) -> int:\n",
    "        start = 0\n",
    "        balanced_stops = [\n",
    "            stop for stop in range(len(s))\n",
    "            if s[start:stop].count('R') == s[start:stop].count('L')\n",
    "        ]\n",
    "        return len(balanced_stops)\n",
    "    \n",
    "solution = Solution()\n",
    "\n",
    "print(solution.balancedStringSplit('RLRRLLRLRL'))\n",
    "print(solution.balancedStringSplit('RLRRRLLRLL'))\n",
    "print(solution.balancedStringSplit('LLLLRRRR'))"
   ]
  },
  {
   "cell_type": "code",
   "execution_count": null,
   "metadata": {},
   "outputs": [],
   "source": [
    "\"\"\"\n",
    "2000. Reverse Prefix of Word\n",
    "Acceptance Rate 86.4%\n",
    "\n",
    "https://leetcode.com/problems/reverse-prefix-of-word/description/?envType=problem-list-v2&envId=string\n",
    "\n",
    "Return reversed segment of word that starts at index 0 and ends at the index of the\n",
    "first occurrence of ch (inclusive)\n",
    "\"\"\"\n",
    "class Solution:\n",
    "    def reversePrefix(self, word: str, ch: str) -> str:\n",
    "        ch_pos = word.find(ch) + 1\n",
    "        return word[:ch_pos][::-1] + word[ch_pos:]\n",
    "    \n",
    "solution = Solution()\n",
    "\n",
    "print(solution.reversePrefix('abcdefd', 'd'))\n",
    "print(solution.reversePrefix('xyxzxe', 'z'))\n",
    "print(solution.reversePrefix('abcd', 'z'))"
   ]
  },
  {
   "cell_type": "code",
   "execution_count": null,
   "metadata": {},
   "outputs": [],
   "source": [
    "\"\"\"\n",
    "1816. Truncate Sentence\n",
    "Acceptance Rate 85.9%\n",
    "\n",
    "https://leetcode.com/problems/truncate-sentence/description/?envType=problem-list-v2&envId=string\n",
    "\n",
    "Return truncated s​​​​​​ such that it contains only the first k​​​​​​ words\n",
    "\"\"\"\n",
    "class Solution:\n",
    "    def truncateSentence(self, s: str, k: int) -> str:\n",
    "        return ' '.join(s.split()[:k])\n",
    "    \n",
    "solution = Solution()\n",
    "\n",
    "print(solution.truncateSentence('Hello how are you Contestant', 4))\n",
    "print(solution.truncateSentence('What is the solution to this problem', 4))\n",
    "print(solution.truncateSentence('chopper is not a tanuki', 5))"
   ]
  },
  {
   "cell_type": "code",
   "execution_count": null,
   "metadata": {},
   "outputs": [],
   "source": [
    "\"\"\"\n",
    "1662. Check If Two String Arrays are Equivalent\n",
    "Acceptance Rate 85.7%\n",
    "\n",
    "https://leetcode.com/problems/check-if-two-string-arrays-are-equivalent/description/?envType=problem-list-v2&envId=string\n",
    "\n",
    "Return true if the two arrays represent the same string\n",
    "\"\"\"\n",
    "from typing import List\n",
    "\n",
    "class Solution:\n",
    "    def arrayStringsAreEqual(self, word1: List[str], word2: List[str]) -> bool:\n",
    "        return ''.join(word1) == ''.join(word2)\n",
    "\n",
    "solution = Solution()\n",
    "\n",
    "print(solution.arrayStringsAreEqual(['ab', 'c'], ['a', 'bc']))\n",
    "print(solution.arrayStringsAreEqual(['a', 'cb'], ['ab', 'c']))\n",
    "print(solution.arrayStringsAreEqual(['abc', 'd', 'defg'], ['abcddefg']))  \n"
   ]
  },
  {
   "cell_type": "code",
   "execution_count": null,
   "metadata": {},
   "outputs": [],
   "source": [
    "\"\"\"\n",
    "(THIS SOLUTION CAN BE IMPROVED)\n",
    "2325. Decode the Message\n",
    "Acceptance Rate 85.1%\n",
    "\n",
    "https://leetcode.com/problems/decode-the-message/description/?envType=problem-list-v2&envId=string\n",
    "\n",
    "Return the decoded message\n",
    "\"\"\"\n",
    "class Solution:\n",
    "    def decodeMessage(self, key: str, message: str) -> str:\n",
    "        alphabet = 'abcdefghijklmnopqrstuvwxyz'\n",
    "        new_key = ''\n",
    "        for letter in key.replace(' ', ''):\n",
    "            if letter not in new_key:\n",
    "                new_key += letter\n",
    "        print(new_key)\n",
    "        \n",
    "        result = ''\n",
    "        for letter in message:\n",
    "            idx = new_key.find(letter)\n",
    "            if idx == -1:\n",
    "                result += ' '\n",
    "            else:\n",
    "                result += alphabet[idx]\n",
    "        return result\n",
    "\n",
    "solution = Solution()\n",
    "\n",
    "print(solution.decodeMessage('the quick brown fox jumps over the lazy dog',\n",
    "                             'vkbs bs t suepuv'))\n",
    "print(solution.decodeMessage('eljuxhpwnyrdgtqkviszcfmabo',\n",
    "                             'zwx hnfx lqantp mnoeius ycgk vcnjrdb'))"
   ]
  },
  {
   "cell_type": "code",
   "execution_count": null,
   "metadata": {},
   "outputs": [],
   "source": [
    "\"\"\"\n",
    "1528. Shuffle String\n",
    "Acceptance Rate 85.1%\n",
    "\n",
    "https://leetcode.com/problems/shuffle-string/description/?envType=problem-list-v2&envId=string\n",
    "\n",
    "Return the shuffled string\n",
    "\"\"\"\n",
    "from typing import List\n",
    "\n",
    "class Solution:\n",
    "    def restoreString(self, s: str, indices: List[int]) -> str:\n",
    "        ind_s = {indices[i]: s[i] for i in range(len(indices))}\n",
    "        sorted_tuple = sorted(ind_s.items(), key=lambda x: x[0])\n",
    "        ind_s = dict(sorted_tuple)   \n",
    "        return ''.join(ind_s.values())\n",
    "\n",
    "solution = Solution()\n",
    "\n",
    "print(solution.restoreString('codeleet', [4, 5, 6, 7, 0, 2, 1, 3]))\n",
    "print(solution.restoreString('abc', [0, 1, 2]))\n"
   ]
  },
  {
   "cell_type": "code",
   "execution_count": null,
   "metadata": {},
   "outputs": [],
   "source": [
    "\"\"\"\n",
    "1021. Remove Outermost Parentheses\n",
    "Acceptance Rate 84.9%\n",
    "\n",
    "https://leetcode.com/problems/remove-outermost-parentheses/description/?envType=problem-list-v2&envId=string\n",
    "\n",
    "Return s after removing the outermost parentheses of every primitive\n",
    "string in the primitive decomposition of s.\n",
    "\"\"\"\n",
    "class Solution:\n",
    "    def removeOuterParentheses(self, s: str) -> str:\n",
    "        result = ''\n",
    "        open_p = 0\n",
    "        dec_lst = []\n",
    "        dec = ''\n",
    "        for c in s:\n",
    "            dec += c\n",
    "            if c == '(':\n",
    "                open_p += 1\n",
    "            else:\n",
    "                open_p -= 1\n",
    "            if open_p == 0:\n",
    "                dec_lst.append(dec)\n",
    "                dec = ''\n",
    "        for dec in dec_lst:\n",
    "            result += dec[1:-1]\n",
    "        return result\n",
    "    \n",
    "solution = Solution()\n",
    "\n",
    "print(solution.removeOuterParentheses('(()())(())'))\n",
    "print(solution.removeOuterParentheses('(()())(())(()(()))'))\n",
    "print(solution.removeOuterParentheses('()()'))\n"
   ]
  },
  {
   "cell_type": "code",
   "execution_count": null,
   "metadata": {},
   "outputs": [],
   "source": [
    "\"\"\"\n",
    "1773. Count Items Matching a Rule\n",
    "Acceptance Rate 84.8%\n",
    "\n",
    "https://leetcode.com/problems/count-items-matching-a-rule/description/?envType=problem-list-v2&envId=string\n",
    "\n",
    "Return the number of items that match the given rule.\n",
    "\"\"\"\n",
    "from typing import List\n",
    "\n",
    "class Solution:\n",
    "    def countMatches(self, items: List[List[str]],\n",
    "                     ruleKey: str, ruleValue: str) -> int:\n",
    "        rule_number = {'type': 0, 'color': 1, 'name': 2} \n",
    "        return len([item for item in items \n",
    "                    if item[rule_number[ruleKey]] == ruleValue])\n",
    "    \n",
    "solution = Solution()\n",
    "\n",
    "print(solution.countMatches([['phone', 'blue', 'pixel'], \n",
    "                             ['computer', 'silver', 'lenovo'], \n",
    "                             ['phone', 'gold', 'iphone']],\n",
    "                             'color',\n",
    "                             'silver'))\n",
    "print(solution.countMatches([['phone', 'blue', 'pixel'],\n",
    "                             ['computer', 'silver', 'phone'],\n",
    "                             ['phone', 'gold', 'iphone']], \n",
    "                             'type',\n",
    "                             'phone'))\n",
    "  \n"
   ]
  },
  {
   "cell_type": "code",
   "execution_count": null,
   "metadata": {},
   "outputs": [
    {
     "name": "stdout",
     "output_type": "stream",
     "text": [
      "['Mary', 'Emma', 'John']\n",
      "['Bob', 'Alice', 'Bob']\n"
     ]
    }
   ],
   "source": [
    "\"\"\"\n",
    "2418. Sort the People\n",
    "84.8%\n",
    "\n",
    "https://leetcode.com/problems/sort-the-people/?envType=problem-list-v2&envId=string\n",
    "\n",
    "Return names sorted in descending order by the people's heights\n",
    "\"\"\"\n",
    "from typing import List\n",
    "\n",
    "class Solution:\n",
    "    def sortPeople(self, names: List[str],\n",
    "                   heights: List[int]) -> List[str]:\n",
    "        h_n = list(zip(heights, names))\n",
    "        h_n.sort(reverse=True)\n",
    "        return [n[1] for n in h_n]\n",
    "    \n",
    "solution = Solution()\n",
    "\n",
    "print(solution.sortPeople(['Mary', 'John', 'Emma'],\n",
    "                          [180, 165, 170]))\n",
    "print(solution.sortPeople(['Alice', 'Bob', 'Bob'], \n",
    "                          [155, 185, 150]))"
   ]
  },
  {
   "cell_type": "code",
   "execution_count": null,
   "metadata": {},
   "outputs": [],
   "source": [
    "\"\"\"\n",
    "2185. Counting Words With a Given Prefix\n",
    "Acceptance Rate 84.6%\n",
    "\n",
    "\"\"\""
   ]
  },
  {
   "cell_type": "code",
   "execution_count": null,
   "metadata": {},
   "outputs": [],
   "source": [
    "\"\"\"\n",
    "1614. Maximum Nesting Depth of the Parentheses\n",
    "Acceptance Rate 84.2%\n",
    "\n",
    "\"\"\""
   ]
  },
  {
   "cell_type": "code",
   "execution_count": null,
   "metadata": {},
   "outputs": [],
   "source": [
    "\"\"\"\n",
    "2194. Cells in a Range on an Excel Sheet\n",
    "Acceptance Rate 84.0%\n",
    "\n",
    "\"\"\""
   ]
  },
  {
   "cell_type": "code",
   "execution_count": null,
   "metadata": {},
   "outputs": [],
   "source": [
    "\"\"\"\n",
    "709. To Lower Case\n",
    "Acceptance Rate 84.0%\n",
    "\n",
    "\"\"\""
   ]
  },
  {
   "cell_type": "code",
   "execution_count": null,
   "metadata": {},
   "outputs": [],
   "source": [
    "\"\"\"\n",
    "2108. Find First Palindromic String in the Array\n",
    "Acceptance Rate 83.9%\n",
    "\n",
    "\"\"\""
   ]
  },
  {
   "cell_type": "code",
   "execution_count": null,
   "metadata": {},
   "outputs": [],
   "source": [
    "\"\"\"\n",
    "2810. Faulty Keyboard\n",
    "Acceptance Rate 83.8%\n",
    "\n",
    "\"\"\""
   ]
  },
  {
   "cell_type": "code",
   "execution_count": null,
   "metadata": {},
   "outputs": [],
   "source": [
    "\"\"\"\n",
    "1832. Check if the Sentence Is Pangram\n",
    "Acceptance Rate 83.7%\n",
    "\n",
    "\"\"\""
   ]
  },
  {
   "cell_type": "code",
   "execution_count": null,
   "metadata": {},
   "outputs": [],
   "source": [
    "\"\"\"\n",
    "1859. Sorting the Sentence\n",
    "Acceptance Rate 83.6%\n",
    "\n",
    "\"\"\""
   ]
  },
  {
   "cell_type": "code",
   "execution_count": null,
   "metadata": {},
   "outputs": [],
   "source": [
    "\"\"\"\n",
    "557. Reverse Words in a String III\n",
    "Acceptance Rate 83.5%\n",
    "\n",
    "\"\"\""
   ]
  },
  {
   "cell_type": "code",
   "execution_count": null,
   "metadata": {},
   "outputs": [],
   "source": [
    "\"\"\"\n",
    "804. Unique Morse Code Words\n",
    "Acceptance Rate 83.1%\n",
    "\n",
    "\"\"\""
   ]
  },
  {
   "cell_type": "code",
   "execution_count": null,
   "metadata": {},
   "outputs": [],
   "source": [
    "\"\"\"\n",
    "2864. Maximum Odd Binary Number\n",
    "Acceptance Rate 83.0%\n",
    "\n",
    "\"\"\""
   ]
  },
  {
   "cell_type": "code",
   "execution_count": null,
   "metadata": {},
   "outputs": [],
   "source": [
    "\"\"\"\n",
    "2828. Check if a String Is an Acronym of Words\n",
    "Acceptance Rate 83.0%\n",
    "\n",
    "\"\"\""
   ]
  },
  {
   "cell_type": "code",
   "execution_count": null,
   "metadata": {},
   "outputs": [],
   "source": [
    "\"\"\"\n",
    "3248. Snake in Matrix\n",
    "Acceptance Rate 82.8%\n",
    "\n",
    "\"\"\""
   ]
  },
  {
   "cell_type": "code",
   "execution_count": null,
   "metadata": {},
   "outputs": [],
   "source": [
    "\"\"\"\n",
    "2315. Count Asterisks\n",
    "Acceptance Rate 82.6%\n",
    "\n",
    "\"\"\""
   ]
  },
  {
   "cell_type": "code",
   "execution_count": null,
   "metadata": {},
   "outputs": [],
   "source": [
    "\"\"\"\n",
    "2053. Kth Distinct String in an Array\n",
    "Acceptance Rate 82.0%\n",
    "\n",
    "\"\"\""
   ]
  },
  {
   "cell_type": "code",
   "execution_count": null,
   "metadata": {},
   "outputs": [],
   "source": [
    "\"\"\"\n",
    "1844. Replace All Digits with Characters\n",
    "Acceptance Rate 82.0%\n",
    "\n",
    "\"\"\""
   ]
  },
  {
   "cell_type": "code",
   "execution_count": null,
   "metadata": {},
   "outputs": [],
   "source": [
    "\"\"\"\n",
    "1967. Number of Strings That Appear as Substrings in Word\n",
    "Acceptance Rate 81.8%\n",
    "\n",
    "\"\"\""
   ]
  },
  {
   "cell_type": "code",
   "execution_count": null,
   "metadata": {},
   "outputs": [],
   "source": [
    "\"\"\"\n",
    "1768. Merge Strings Alternately\n",
    "Acceptance Rate 81.8%\n",
    "\n",
    "\"\"\""
   ]
  },
  {
   "cell_type": "code",
   "execution_count": null,
   "metadata": {},
   "outputs": [],
   "source": [
    "\"\"\"\n",
    "2744. Find Maximum Number of String Pairs\n",
    "Acceptance Rate 81.5%\n",
    "\n",
    "\"\"\""
   ]
  },
  {
   "cell_type": "code",
   "execution_count": null,
   "metadata": {},
   "outputs": [],
   "source": [
    "\"\"\"\n",
    "2678. Number of Senior Citizens\n",
    "Acceptance Rate 81.4%\n",
    "\n",
    "\"\"\""
   ]
  },
  {
   "cell_type": "code",
   "execution_count": null,
   "metadata": {},
   "outputs": [],
   "source": [
    "\"\"\"\n",
    "2103. Rings and Rods\n",
    "Acceptance Rate 81.0%\n",
    "\n",
    "\"\"\""
   ]
  },
  {
   "cell_type": "code",
   "execution_count": null,
   "metadata": {},
   "outputs": [],
   "source": [
    "\"\"\"\n",
    "3019. Number of Changing Keys\n",
    "Acceptance Rate 80.3%\n",
    "\n",
    "\"\"\""
   ]
  },
  {
   "cell_type": "code",
   "execution_count": null,
   "metadata": {},
   "outputs": [],
   "source": [
    "\"\"\"\n",
    "1309. Decrypt String from Alphabet to Integer Mapping\n",
    "Acceptance Rate 80.1%\n",
    "\n",
    "\"\"\""
   ]
  },
  {
   "cell_type": "code",
   "execution_count": null,
   "metadata": {},
   "outputs": [],
   "source": [
    "\"\"\"\n",
    "344. Reverse String\n",
    "Acceptance Rate 79.5%\n",
    "\n",
    "\"\"\""
   ]
  },
  {
   "cell_type": "code",
   "execution_count": null,
   "metadata": {},
   "outputs": [],
   "source": [
    "\"\"\"\n",
    "1812. Determine Color of a Chessboard Square\n",
    "Acceptance Rate 79.1%\n",
    "\n",
    "\"\"\""
   ]
  },
  {
   "cell_type": "code",
   "execution_count": null,
   "metadata": {},
   "outputs": [],
   "source": [
    "\"\"\"\n",
    "2710. Remove Trailing Zeros From a String\n",
    "Acceptance Rate 79.0%\n",
    "\n",
    "\"\"\""
   ]
  },
  {
   "cell_type": "code",
   "execution_count": null,
   "metadata": {},
   "outputs": [],
   "source": [
    "\"\"\"\n",
    "1704. Determine if String Halves Are Alike\n",
    "Acceptance Rate 78.6%\n",
    "\n",
    "\"\"\""
   ]
  },
  {
   "cell_type": "code",
   "execution_count": null,
   "metadata": {},
   "outputs": [],
   "source": [
    "\"\"\"\n",
    "1941. Check if All Characters Have Equal Number of Occurrences\n",
    "Acceptance Rate 78.5%\n",
    "\n",
    "\"\"\""
   ]
  },
  {
   "cell_type": "code",
   "execution_count": null,
   "metadata": {},
   "outputs": [],
   "source": [
    "\"\"\"\n",
    "1374. Generate a String With Characters That Have Odd Counts\n",
    "Acceptance Rate 78.2%\n",
    "\n",
    "\"\"\""
   ]
  },
  {
   "cell_type": "code",
   "execution_count": null,
   "metadata": {},
   "outputs": [],
   "source": [
    "\"\"\"\n",
    "1974. Minimum Time to Type Word Using Special Typewriter\n",
    "Acceptance Rate 76.7%\n",
    "\n",
    "\"\"\""
   ]
  },
  {
   "cell_type": "code",
   "execution_count": null,
   "metadata": {},
   "outputs": [],
   "source": [
    "\"\"\"\n",
    "2788. Split Strings by Separator\n",
    "Acceptance Rate 75.5%\n",
    "\n",
    "\"\"\""
   ]
  },
  {
   "cell_type": "code",
   "execution_count": null,
   "metadata": {},
   "outputs": [],
   "source": [
    "\"\"\"\n",
    "1945. Sum of Digits of String After Convert\n",
    "Acceptance Rate 74.9%\n",
    "\n",
    "\"\"\""
   ]
  },
  {
   "cell_type": "code",
   "execution_count": null,
   "metadata": {},
   "outputs": [],
   "source": [
    "\"\"\"\n",
    "1880. Check if Word Equals Summation of Two Words\n",
    "Acceptance Rate 74.7%\n",
    "\n",
    "\"\"\""
   ]
  },
  {
   "cell_type": "code",
   "execution_count": null,
   "metadata": {},
   "outputs": [],
   "source": [
    "\"\"\"\n",
    "2586. Count the Number of Vowel Strings in Range\n",
    "Acceptance Rate 74.5%\n",
    "\n",
    "\"\"\""
   ]
  },
  {
   "cell_type": "code",
   "execution_count": null,
   "metadata": {},
   "outputs": [],
   "source": [
    "\"\"\"\n",
    "2506. Count Pairs Of Similar Strings\n",
    "Acceptance Rate 72.1%\n",
    "\n",
    "\"\"\""
   ]
  },
  {
   "cell_type": "code",
   "execution_count": null,
   "metadata": {},
   "outputs": [],
   "source": [
    "\"\"\"\n",
    "2042. Check if Numbers Are Ascending in a Sentence\n",
    "Acceptance Rate 71.2%\n",
    "\n",
    "\"\"\""
   ]
  },
  {
   "cell_type": "code",
   "execution_count": null,
   "metadata": {},
   "outputs": [],
   "source": [
    "\"\"\"\n",
    "2062. Count Vowel Substrings of a String\n",
    "Acceptance Rate 69.8%\n",
    "\n",
    "\"\"\""
   ]
  },
  {
   "cell_type": "code",
   "execution_count": null,
   "metadata": {},
   "outputs": [],
   "source": [
    "\"\"\"\n",
    "13. Roman to Integer\n",
    "Acceptance Rate 64.1%\n",
    "\n",
    "\"\"\""
   ]
  },
  {
   "cell_type": "code",
   "execution_count": null,
   "metadata": {},
   "outputs": [],
   "source": [
    "\"\"\"\n",
    "2068. Check Whether Two Strings are Almost Equivalent\n",
    "Acceptance Rate 64.0%\n",
    "\n",
    "\"\"\""
   ]
  },
  {
   "cell_type": "code",
   "execution_count": null,
   "metadata": {},
   "outputs": [],
   "source": [
    "\"\"\"\n",
    "2027. Minimum Moves to Convert String\n",
    "Acceptance Rate 55.9%\n",
    "\n",
    "\"\"\""
   ]
  },
  {
   "cell_type": "code",
   "execution_count": null,
   "metadata": {},
   "outputs": [],
   "source": [
    "\"\"\"\n",
    "58. Length of Last Word\n",
    "Acceptance Rate 55.4%\n",
    "\n",
    "\"\"\""
   ]
  },
  {
   "cell_type": "code",
   "execution_count": null,
   "metadata": {},
   "outputs": [],
   "source": [
    "\"\"\"\n",
    "67. Add Binary\n",
    "Acceptance Rate 55.2%\n",
    "\n",
    "\"\"\""
   ]
  },
  {
   "cell_type": "code",
   "execution_count": null,
   "metadata": {},
   "outputs": [],
   "source": [
    "\"\"\"\n",
    "1961. Check If String Is a Prefix of Array\n",
    "Acceptance Rate 52.6%\n",
    "\n",
    "\"\"\""
   ]
  },
  {
   "cell_type": "code",
   "execution_count": null,
   "metadata": {},
   "outputs": [],
   "source": [
    "\"\"\"\n",
    "125. Valid Palindrome\n",
    "Acceptance Rate 50.1%\n",
    "\n",
    "\"\"\""
   ]
  },
  {
   "cell_type": "code",
   "execution_count": null,
   "metadata": {},
   "outputs": [],
   "source": [
    "\"\"\"\n",
    "14. Longest Common Prefix\n",
    "Acceptance Rate 44.8%\n",
    "\n",
    "\"\"\""
   ]
  },
  {
   "cell_type": "code",
   "execution_count": null,
   "metadata": {},
   "outputs": [],
   "source": [
    "\"\"\"\n",
    "28. Find the Index of the First Occurrence in a String\n",
    "Acceptance Rate 44.4%\n",
    "\n",
    "\"\"\""
   ]
  },
  {
   "cell_type": "code",
   "execution_count": null,
   "metadata": {},
   "outputs": [],
   "source": [
    "\"\"\"\n",
    "20. Valid Parentheses\n",
    "Acceptance Rate 41.8%\n",
    "\n",
    "\"\"\""
   ]
  },
  {
   "cell_type": "code",
   "execution_count": null,
   "metadata": {},
   "outputs": [],
   "source": [
    "\"\"\"\n",
    "2047. Number of Valid Words in a Sentence\n",
    "Acceptance Rate 29.8%\n",
    "\n",
    "\"\"\""
   ]
  },
  {
   "cell_type": "code",
   "execution_count": null,
   "metadata": {},
   "outputs": [],
   "source": [
    "\"\"\"\n",
    "2423. Remove Letter To Equalize Frequency\n",
    "Acceptance Rate 17.9%\n",
    "\n",
    "\"\"\""
   ]
  }
 ],
 "metadata": {
  "kernelspec": {
   "display_name": "venv",
   "language": "python",
   "name": "python3"
  },
  "language_info": {
   "codemirror_mode": {
    "name": "ipython",
    "version": 3
   },
   "file_extension": ".py",
   "mimetype": "text/x-python",
   "name": "python",
   "nbconvert_exporter": "python",
   "pygments_lexer": "ipython3",
   "version": "3.11.9"
  }
 },
 "nbformat": 4,
 "nbformat_minor": 2
}
